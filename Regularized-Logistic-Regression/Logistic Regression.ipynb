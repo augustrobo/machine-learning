{
 "cells": [
  {
   "cell_type": "markdown",
   "metadata": {},
   "source": [
    "# Logistic Regression\n",
    "\n",
    "1. [Load Data](#data)\n",
    "2. [Standardize Dataset](#standard)\n",
    "3. [Visualize Data](#plot)\n",
    "4. [Add Intercept](#intercept)\n",
    "5. [Initialization of Parameters](#initial)\n",
    "6. [Sigmoid Function](#sigmoid)\n",
    "7. [Cost Function](#cost)\n",
    "8. [Gradient Descent](#gradient)\n",
    "9. [Make Predictions](#predict)\n",
    "10. [Merge All Functions](#merge)"
   ]
  },
  {
   "cell_type": "markdown",
   "metadata": {},
   "source": [
    "## Load Data <a name=\"data\"></a>"
   ]
  },
  {
   "cell_type": "code",
   "execution_count": 1,
   "metadata": {},
   "outputs": [
    {
     "name": "stdout",
     "output_type": "stream",
     "text": [
      "Populating the interactive namespace from numpy and matplotlib\n"
     ]
    }
   ],
   "source": [
    "%pylab inline"
   ]
  },
  {
   "cell_type": "code",
   "execution_count": 2,
   "metadata": {},
   "outputs": [],
   "source": [
    "import pylab\n",
    "dat = np.loadtxt('datasets/ex2data1.txt', delimiter = ',')"
   ]
  },
  {
   "cell_type": "code",
   "execution_count": 3,
   "metadata": {},
   "outputs": [
    {
     "name": "stdout",
     "output_type": "stream",
     "text": [
      "Number of examples: 100\n",
      "Number of features: 2\n"
     ]
    }
   ],
   "source": [
    "X = dat[:, :2]\n",
    "y = dat[:, [2]]\n",
    "print(\"Number of examples: {}\".format(y.shape[0]))\n",
    "print(\"Number of features: {}\".format(X.shape[1]))"
   ]
  },
  {
   "cell_type": "markdown",
   "metadata": {},
   "source": [
    "## Standardize Dataset <a name='standard'></a>"
   ]
  },
  {
   "cell_type": "code",
   "execution_count": 4,
   "metadata": {},
   "outputs": [],
   "source": [
    "X /= 100"
   ]
  },
  {
   "cell_type": "markdown",
   "metadata": {},
   "source": [
    "## Visualize Data <a name=\"plot\"></a>"
   ]
  },
  {
   "cell_type": "code",
   "execution_count": 5,
   "metadata": {},
   "outputs": [
    {
     "data": {
      "image/png": "[encoded data removed]",
      "text/plain": [
       "<Figure size 432x288 with 1 Axes>"
      ]
     },
     "metadata": {},
     "output_type": "display_data"
    }
   ],
   "source": [
    "pos = np.where(y == 1)\n",
    "neg = np.where(y == 0)\n",
    "p = plt.scatter(X[pos,0], X[pos,1], marker = '+')\n",
    "n = plt.scatter(X[neg,0], X[neg,1], marker = 'o')\n",
    "plt.xlabel('Exam 1 score')\n",
    "plt.ylabel('Exam 2 score')\n",
    "plt.title('Scatter plot of training data')\n",
    "plt.legend((p, n), ('Admitted', 'Unadmitted'), loc = 'upper right')\n",
    "plt.show()"
   ]
  },
  {
   "cell_type": "markdown",
   "metadata": {},
   "source": [
    "## Add Intercept <a name=\"intercept\"></a>"
   ]
  },
  {
   "cell_type": "code",
   "execution_count": 6,
   "metadata": {},
   "outputs": [],
   "source": [
    "def addintercept(X):\n",
    "    N = X.shape[0]\n",
    "    X = np.hstack((np.ones((N, 1)), X))\n",
    "    return X"
   ]
  },
  {
   "cell_type": "markdown",
   "metadata": {},
   "source": [
    "## Initialization of Parameters<a name=\"initial\"></a>"
   ]
  },
  {
   "cell_type": "code",
   "execution_count": 7,
   "metadata": {},
   "outputs": [],
   "source": [
    "def initialwzeros(dim):\n",
    "    return np.zeros((dim, 1))"
   ]
  },
  {
   "cell_type": "markdown",
   "metadata": {},
   "source": [
    "## Sigmoid Function <a name =\"sigmoid\"></a>"
   ]
  },
  {
   "cell_type": "code",
   "execution_count": 8,
   "metadata": {},
   "outputs": [],
   "source": [
    "def sigmoid(z):\n",
    "    return 1/(1 + np.exp(-z))"
   ]
  },
  {
   "cell_type": "code",
   "execution_count": 9,
   "metadata": {},
   "outputs": [
    {
     "data": {
      "image/png": "[encoded data removed]",
      "text/plain": [
       "<Figure size 432x288 with 1 Axes>"
      ]
     },
     "metadata": {},
     "output_type": "display_data"
    }
   ],
   "source": [
    "a = np.linspace(-10, 10, 100)  # 100 evenly-spaced values from -10 to 10\n",
    "b = sigmoid(a)\n",
    "plt.plot(a, b)\n",
    "plt.title('Sigmoid Function')\n",
    "plt.show()"
   ]
  },
  {
   "cell_type": "markdown",
   "metadata": {},
   "source": [
    "## Cost Function<a name=\"cost\"></a>"
   ]
  },
  {
   "cell_type": "markdown",
   "metadata": {},
   "source": [
    "$$\n",
    "J(\\theta)=\\frac{1}{N}\\sum_{i=1}^N L(\\hat{y}^{(i)},y^{(i)})\n",
    "$$\n",
    "- $\\hat{y}=sigmoid(\\theta^Tx)=h_{\\theta}(x)$\n",
    "- $L(a,y)=-\\log\\left[a^y (1-a)^{1-y}\\right]=-y\\log a-(1-y)\\log(1-a)$\n",
    "\n",
    "---------\n",
    "\n",
    "### Vectorization\n",
    "\n",
    "- $a = sigmoid(X\\theta)$\n",
    "- $J = -\\left(y^T\\log a +(\\mathbf{1}-y)^T\\log(\\mathbf{1}-a)\\right)/N$"
   ]
  },
  {
   "cell_type": "markdown",
   "metadata": {},
   "source": [
    "## Gradient Descent<a name=\"gradient\"></a>\n",
    "\n",
    "$$\n",
    "\\theta \\leftarrow \\theta-\\frac{\\alpha}{N} X^T (h_{\\theta}(X)-y)\n",
    "$$"
   ]
  },
  {
   "cell_type": "code",
   "execution_count": 10,
   "metadata": {},
   "outputs": [],
   "source": [
    "def costAndGradient(X, y, theta):\n",
    "    a = sigmoid(np.dot(X, theta))\n",
    "    cost = - np.mean(y * np.log(a) + (1 - y) * np.log(1 - a))\n",
    "        \n",
    "    grad = np.dot(X.T, a - y)/len(y)\n",
    "\n",
    "    d = {\"cost\":cost,\n",
    "         \"grad\":grad}\n",
    "    return d"
   ]
  },
  {
   "cell_type": "code",
   "execution_count": 11,
   "metadata": {},
   "outputs": [],
   "source": [
    "def optimize(X, y, theta, learning_rate, iterations):\n",
    "    J = []\n",
    "    for i in range(iterations):\n",
    "        d = costAndGradient(X, y, theta)\n",
    "        theta -= learning_rate * d[\"grad\"]\n",
    "        J.append(d[\"cost\"])\n",
    "    return theta, J"
   ]
  },
  {
   "cell_type": "markdown",
   "metadata": {},
   "source": [
    "## Make Predictions <a name=\"predict\"></a>"
   ]
  },
  {
   "cell_type": "code",
   "execution_count": 12,
   "metadata": {},
   "outputs": [],
   "source": [
    "def predict(X, theta):\n",
    "    X_int = addintercept(X)\n",
    "    p = sigmoid(np.dot(X_int, theta))\n",
    "    return (p > 0.5)"
   ]
  },
  {
   "cell_type": "markdown",
   "metadata": {},
   "source": [
    "## Merge all Function <a name=\"merge\"></a>"
   ]
  },
  {
   "cell_type": "code",
   "execution_count": 13,
   "metadata": {},
   "outputs": [],
   "source": [
    "def model(X, y, iterations = 5000, learning_rate = 2.5):\n",
    "    # add intercept\n",
    "    X_int = addintercept(X)\n",
    "    \n",
    "    # initializing params\n",
    "    theta = initialwzeros(X_int.shape[1])\n",
    "    \n",
    "    # optimization with gradient descent\n",
    "    [theta, cost_hist] = optimize(X_int, y, theta, learning_rate, iterations)\n",
    "    \n",
    "    d = {\"costs\": cost_hist,\n",
    "         \"theta\": theta,\n",
    "         \"learning_rate\": learning_rate,\n",
    "         \"iterations\": iterations}\n",
    "    return d"
   ]
  },
  {
   "cell_type": "code",
   "execution_count": 14,
   "metadata": {},
   "outputs": [],
   "source": [
    "d = model(X, y)"
   ]
  },
  {
   "cell_type": "code",
   "execution_count": 15,
   "metadata": {},
   "outputs": [
    {
     "data": {
      "image/png": "[encoded data removed]",
      "text/plain": [
       "<Figure size 432x288 with 1 Axes>"
      ]
     },
     "metadata": {},
     "output_type": "display_data"
    }
   ],
   "source": [
    "# Plot learning curve (with costs)\n",
    "costs = np.squeeze(d['costs'])\n",
    "plt.plot(costs)\n",
    "plt.ylabel('cost')\n",
    "plt.xlabel('iterations')\n",
    "plt.title(\"Learning rate =\" + str(d[\"learning_rate\"]))\n",
    "plt.show()"
   ]
  },
  {
   "cell_type": "code",
   "execution_count": 16,
   "metadata": {},
   "outputs": [
    {
     "data": {
      "text/plain": [
       "array([[-23.41028488],\n",
       "       [ 19.22027081],\n",
       "       [ 18.72485191]])"
      ]
     },
     "execution_count": 16,
     "metadata": {},
     "output_type": "execute_result"
    }
   ],
   "source": [
    "theta_last = d[\"theta\"]\n",
    "theta_last"
   ]
  },
  {
   "cell_type": "code",
   "execution_count": 17,
   "metadata": {},
   "outputs": [
    {
     "data": {
      "text/plain": [
       "0.2039837374628911"
      ]
     },
     "execution_count": 17,
     "metadata": {},
     "output_type": "execute_result"
    }
   ],
   "source": [
    "d[\"costs\"][-1]"
   ]
  },
  {
   "cell_type": "markdown",
   "metadata": {},
   "source": [
    "### Accuracy on the Training Set"
   ]
  },
  {
   "cell_type": "code",
   "execution_count": 18,
   "metadata": {},
   "outputs": [
    {
     "data": {
      "text/plain": [
       "0.89"
      ]
     },
     "execution_count": 18,
     "metadata": {},
     "output_type": "execute_result"
    }
   ],
   "source": [
    "np.mean(y == predict(X, theta_last))"
   ]
  },
  {
   "cell_type": "markdown",
   "metadata": {},
   "source": [
    "### Plot Decision Boundary"
   ]
  },
  {
   "cell_type": "code",
   "execution_count": 19,
   "metadata": {},
   "outputs": [
    {
     "data": {
      "image/png": "[encoded data removed]",
      "text/plain": [
       "<Figure size 432x288 with 1 Axes>"
      ]
     },
     "metadata": {},
     "output_type": "display_data"
    }
   ],
   "source": [
    "plot_x = [min(X[:,0]), max(X[:,1])]\n",
    "plot_y = -(theta_last[0] + theta_last[1] * plot_x)/theta_last[2]\n",
    "a, = plt.plot(plot_x, plot_y, 'r')\n",
    "pos = np.where(y == 1)\n",
    "neg = np.where(y == 0)\n",
    "p = plt.scatter(X[pos,0], X[pos,1], marker = '+')\n",
    "n = plt.scatter(X[neg,0], X[neg,1], marker = 'o')\n",
    "plt.xlabel('Exam 1 score')\n",
    "plt.ylabel('Exam 2 score')\n",
    "plt.title('Scatter plot of training data')\n",
    "plt.legend((a, p, n), ('Decision Boundary', 'Admitted', 'Unadmitted'), loc = 'upper right')\n",
    "plt.show()"
   ]
  }
 ],
 "metadata": {
  "kernelspec": {
   "display_name": "Python 3",
   "language": "python",
   "name": "python3"
  },
  "language_info": {
   "codemirror_mode": {
    "name": "ipython",
    "version": 3
   },
   "file_extension": ".py",
   "mimetype": "text/x-python",
   "name": "python",
   "nbconvert_exporter": "python",
   "pygments_lexer": "ipython3",
   "version": "3.6.2"
  }
 },
 "nbformat": 4,
 "nbformat_minor": 2
}
