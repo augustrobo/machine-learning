{
 "cells": [
  {
   "cell_type": "markdown",
   "metadata": {},
   "source": [
    "# Regularized Logistic Regression\n",
    "\n",
    "Predict whether microchips from a fabrication plant passes quality assurance (QA).\n",
    "\n",
    "\n",
    "1. [Load Data](#data)\n",
    "3. [Visualize Data](#plot)\n",
    "2. [Add Polynomial Features](#polynomial)\n",
    "5. [Initialization of Parameters](#initial)\n",
    "7. [Cost Function](#cost)\n",
    "8. [Gradient Descent](#gradient)\n",
    "9. [Make Predictions](#predict)\n",
    "10. [Merge All Functions](#merge)"
   ]
  },
  {
   "cell_type": "markdown",
   "metadata": {},
   "source": [
    "## Load Data <a name=\"data\"></a>"
   ]
  },
  {
   "cell_type": "code",
   "execution_count": 1,
   "metadata": {},
   "outputs": [
    {
     "name": "stdout",
     "output_type": "stream",
     "text": [
      "Populating the interactive namespace from numpy and matplotlib\n"
     ]
    }
   ],
   "source": [
    "%pylab inline\n",
    "import pylab\n",
    "dat = np.loadtxt('datasets/ex2data2.txt', delimiter = ',')"
   ]
  },
  {
   "cell_type": "code",
   "execution_count": 2,
   "metadata": {},
   "outputs": [
    {
     "name": "stdout",
     "output_type": "stream",
     "text": [
      "Number of examples: 118\n",
      "Number of features: 2\n"
     ]
    }
   ],
   "source": [
    "X = dat[:, :2]\n",
    "y = dat[:, [2]]\n",
    "print(\"Number of examples: {}\".format(len(y)))\n",
    "print(\"Number of features: {}\".format(X.shape[1]))"
   ]
  },
  {
   "cell_type": "markdown",
   "metadata": {},
   "source": [
    "## Visualize Data <a name=\"plot\"></a>"
   ]
  },
  {
   "cell_type": "code",
   "execution_count": 3,
   "metadata": {},
   "outputs": [
    {
     "data": {
      "image/png": "[encoded data removed]",
      "text/plain": [
       "<Figure size 432x288 with 1 Axes>"
      ]
     },
     "metadata": {},
     "output_type": "display_data"
    }
   ],
   "source": [
    "pos = np.where(y == 1)\n",
    "neg = np.where(y == 0)\n",
    "p = plt.scatter(X[pos,0], X[pos,1], marker = '+')\n",
    "n = plt.scatter(X[neg,0], X[neg,1], marker = 'o')\n",
    "plt.xlabel('Microchip Test 1')\n",
    "plt.ylabel('Microchip Test 2')\n",
    "plt.title('Scatter plot of training data')\n",
    "plt.legend((p, n), ('Accepted', 'Rejected'), loc = 'upper right')\n",
    "plt.show()"
   ]
  },
  {
   "cell_type": "markdown",
   "metadata": {},
   "source": [
    "## Add Polynomial Features <a name=\"polynomial\"></a>\n",
    "\n",
    "$$\n",
    "mapFeature(x)=\n",
    "\\begin{pmatrix}\n",
    "1\\newline\n",
    "x_1\\newline\n",
    "x_2\\newline\n",
    "x_1^2\\newline\n",
    "x_1 x_2\\newline\n",
    "x_2^2\\newline\n",
    "\\vdots\\newline\n",
    "x_1 x_2^5\\newline\n",
    "x_2^6\n",
    "\\end{pmatrix}\n",
    "$$"
   ]
  },
  {
   "cell_type": "code",
   "execution_count": 4,
   "metadata": {},
   "outputs": [],
   "source": [
    "def mapFeature(X1, X2, degree = 6):\n",
    "    N = X1.shape[0]\n",
    "    out = ones((N, 1))\n",
    "    for i in range(1, degree + 1):\n",
    "        for j in range(i + 1):\n",
    "            new = np.power(X1, i - j) * np.power(X2, j)\n",
    "            new = np.reshape(new, (N, 1))\n",
    "            out = np.hstack((out, new))\n",
    "    return out"
   ]
  },
  {
   "cell_type": "markdown",
   "metadata": {},
   "source": [
    "## Initialization of Parameters<a name=\"initial\"></a>"
   ]
  },
  {
   "cell_type": "code",
   "execution_count": 5,
   "metadata": {},
   "outputs": [],
   "source": [
    "def initialwzeros(dim):\n",
    "    return np.zeros((dim, 1))"
   ]
  },
  {
   "cell_type": "markdown",
   "metadata": {},
   "source": [
    "## Cost Function<a name=\"cost\"></a>\n",
    "\n",
    "$$\n",
    "J(\\theta)=-\\frac{1}{N}\\sum_{i=1}^N\\left[y^{(i)}\\log h(x^{(i)}) + (1-y^{(i)})\\log\\left (1-h(x^{(i)})\\right)\\right] +\n",
    "\\frac{\\lambda}{2N}\\sum_{j=1}^p \\theta_j^2\n",
    "$$"
   ]
  },
  {
   "cell_type": "markdown",
   "metadata": {},
   "source": [
    "## Gradient Descent<a name=\"gradient\"></a>\n",
    "\n",
    "$$\n",
    "\\theta_0 \\leftarrow \\theta_j -\\alpha\\frac{1}{N}\\sum _{i=1}^N  \\left(h(x^{(i)})  - y^{(i)}\\right)\n",
    "$$\n",
    "\n",
    "$$\n",
    "\\theta_j \\leftarrow \\theta_j -\\frac{\\alpha}{N}\\left[\\sum _{i=1}^N  \\left(h(x^{(i)})  - y^{(i)}\\right)x^{(i)}_j+\\lambda\\theta_j\\right],\\ \\ \\ \\ j=1,...,p\n",
    "$$\n",
    "\n",
    "--------\n",
    "\n",
    "$$\n",
    "\\frac{\\partial J(\\theta)}{\\partial \\theta_j}=\\begin{cases}\n",
    "\\frac{1}{N}\\sum _{i=1}^N  \\left(h(x^{(i)})  - y^{(i)}\\right), &j=0\\\\\n",
    "\\frac{1}{N}\\left[\\sum _{i=1}^N  \\left(h(x^{(i)})  - y^{(i)}\\right)x^{(i)}_j+\\lambda\\theta_j\\right],&j=1,...,p\n",
    "\\end{cases}\n",
    "$$"
   ]
  },
  {
   "cell_type": "code",
   "execution_count": 6,
   "metadata": {},
   "outputs": [],
   "source": [
    "def sigmoid(z):\n",
    "    return 1/(1 + np.exp(-z))"
   ]
  },
  {
   "cell_type": "code",
   "execution_count": 7,
   "metadata": {},
   "outputs": [],
   "source": [
    "def costAndGradient(X, y, theta, lam):\n",
    "    # sample size\n",
    "    N = len(y)\n",
    "    \n",
    "    temp = np.copy(theta)\n",
    "    temp[0] = 0\n",
    "    \n",
    "    # compute cost\n",
    "    a = sigmoid(np.dot(X, theta))\n",
    "    cost = - np.mean(y * np.log(a) + (1 - y) * np.log(1 - a))\n",
    "    cost += lam * np.dot(temp.T, temp)/(2 * N)\n",
    "     \n",
    "    # compute gradient\n",
    "    grad = (np.dot(X.T, a - y) + lam * temp)/N\n",
    "\n",
    "    d = {\"cost\":cost,\n",
    "         \"grad\":grad}\n",
    "    return d"
   ]
  },
  {
   "cell_type": "code",
   "execution_count": 8,
   "metadata": {},
   "outputs": [],
   "source": [
    "def optimize(X, y, theta, lam, learning_rate, iterations):\n",
    "    J = []\n",
    "    for i in range(iterations):\n",
    "        d = costAndGradient(X, y, theta, lam)\n",
    "        theta -= learning_rate * d[\"grad\"]\n",
    "        J.append(d[\"cost\"])\n",
    "    return theta, J"
   ]
  },
  {
   "cell_type": "markdown",
   "metadata": {},
   "source": [
    "## Make Predictions <a name=\"predict\"></a>"
   ]
  },
  {
   "cell_type": "code",
   "execution_count": 9,
   "metadata": {},
   "outputs": [],
   "source": [
    "def predict(X, theta):\n",
    "    X_poly = mapFeature(X[:, 0], X[:, 1])\n",
    "    p = sigmoid(np.dot(X_poly, theta))\n",
    "    return (p > 0.5)"
   ]
  },
  {
   "cell_type": "markdown",
   "metadata": {},
   "source": [
    "## Merge all Function <a name=\"merge\"></a>"
   ]
  },
  {
   "cell_type": "code",
   "execution_count": 10,
   "metadata": {},
   "outputs": [],
   "source": [
    "def model(X, y, lam = 1, iterations = 100, learning_rate = 5):\n",
    "    # add polynomials\n",
    "    X_poly = mapFeature(X[:, 0], X[:, 1])\n",
    "    \n",
    "    # initializing params\n",
    "    theta = initialwzeros(X_poly.shape[1])\n",
    "    \n",
    "    # optimization with gradient descent\n",
    "    [theta, cost_hist] = optimize(X_poly, y, theta, lam, learning_rate, iterations)\n",
    "    \n",
    "    d = {\"costs\": cost_hist,\n",
    "         \"theta\": theta,\n",
    "         \"lambda\": lam,\n",
    "         \"learning_rate\": learning_rate,\n",
    "         \"iterations\": iterations}\n",
    "    return d"
   ]
  },
  {
   "cell_type": "code",
   "execution_count": 11,
   "metadata": {},
   "outputs": [],
   "source": [
    "d = model(X, y)"
   ]
  },
  {
   "cell_type": "code",
   "execution_count": 12,
   "metadata": {},
   "outputs": [
    {
     "data": {
      "text/plain": [
       "array([[0.52900313]])"
      ]
     },
     "execution_count": 12,
     "metadata": {},
     "output_type": "execute_result"
    }
   ],
   "source": [
    "d[\"costs\"][-1]"
   ]
  },
  {
   "cell_type": "code",
   "execution_count": 13,
   "metadata": {},
   "outputs": [],
   "source": [
    "theta_last = d[\"theta\"]"
   ]
  },
  {
   "cell_type": "code",
   "execution_count": 14,
   "metadata": {},
   "outputs": [
    {
     "data": {
      "image/png": "[encoded data removed]",
      "text/plain": [
       "<Figure size 432x288 with 1 Axes>"
      ]
     },
     "metadata": {},
     "output_type": "display_data"
    }
   ],
   "source": [
    "# Plot learning curve (with costs)\n",
    "costs = np.squeeze(d['costs'])\n",
    "plt.plot(costs)\n",
    "plt.ylabel('cost')\n",
    "plt.xlabel('iterations')\n",
    "plt.title(\"Learning rate = \" + str(d[\"learning_rate\"]))\n",
    "plt.show()"
   ]
  },
  {
   "cell_type": "markdown",
   "metadata": {},
   "source": [
    "### Accuracy on the Training Set"
   ]
  },
  {
   "cell_type": "code",
   "execution_count": 15,
   "metadata": {},
   "outputs": [
    {
     "data": {
      "text/plain": [
       "0.8305084745762712"
      ]
     },
     "execution_count": 15,
     "metadata": {},
     "output_type": "execute_result"
    }
   ],
   "source": [
    "np.mean(y == predict(X, theta_last))"
   ]
  },
  {
   "cell_type": "markdown",
   "metadata": {},
   "source": [
    "### Plot Decision Boundary"
   ]
  },
  {
   "cell_type": "code",
   "execution_count": 16,
   "metadata": {},
   "outputs": [
    {
     "data": {
      "image/png": "[encoded data removed]",
      "text/plain": [
       "<Figure size 432x288 with 1 Axes>"
      ]
     },
     "metadata": {},
     "output_type": "display_data"
    }
   ],
   "source": [
    "u = np.linspace(-1, 1.2, 50); uu = np.reshape(u, (50, 1))\n",
    "v = np.linspace(-1, 1.2, 50); vv = np.reshape(v, (50, 1))\n",
    "z = np.zeros((len(u), len(v)))\n",
    "\n",
    "for i in range(len(u)):\n",
    "    for j in range(len(v)):\n",
    "        z[i, j] = np.dot(mapFeature(uu[i,:], vv[j,:]), theta_last)\n",
    "z = z.T\n",
    "plt.contour(u, v, z, 0)\n",
    "\n",
    "pos = np.where(y == 1)\n",
    "neg = np.where(y == 0)\n",
    "p = plt.scatter(X[pos,0], X[pos,1], marker = '+')\n",
    "n = plt.scatter(X[neg,0], X[neg,1], marker = 'o')\n",
    "plt.xlabel('Microchip Test 1')\n",
    "plt.ylabel('Microchip Test 2')\n",
    "plt.title(\"Lambda = \" + str(d[\"lambda\"]))\n",
    "plt.legend((p, n), ('Accepted', 'Rejected'), loc = 'upper right')\n",
    "plt.show()"
   ]
  }
 ],
 "metadata": {
  "kernelspec": {
   "display_name": "Python 3",
   "language": "python",
   "name": "python3"
  },
  "language_info": {
   "codemirror_mode": {
    "name": "ipython",
    "version": 3
   },
   "file_extension": ".py",
   "mimetype": "text/x-python",
   "name": "python",
   "nbconvert_exporter": "python",
   "pygments_lexer": "ipython3",
   "version": "3.6.2"
  }
 },
 "nbformat": 4,
 "nbformat_minor": 2
}
