{
 "cells": [
  {
   "cell_type": "markdown",
   "metadata": {},
   "source": [
    "# Linear Regression with Multiple Variables\n",
    "\n",
    "1. [Load Data](#data)\n",
    "2. [Feature Normalization](#feature)\n",
    "2. [Initialization of Parameters](#initial)\n",
    "3. [Compute Cost](#cost)\n",
    "4. [Gradient Descent](#gradient)\n",
    "5. [Make Predictions](#predict)\n",
    "6. [Merge All Functions](#merge)\n",
    "7. [Normal Equation Method](#normal)"
   ]
  },
  {
   "cell_type": "markdown",
   "metadata": {},
   "source": [
    "## Load Data <a name=\"data\"></a>"
   ]
  },
  {
   "cell_type": "code",
   "execution_count": 1,
   "metadata": {},
   "outputs": [
    {
     "name": "stdout",
     "output_type": "stream",
     "text": [
      "Populating the interactive namespace from numpy and matplotlib\n"
     ]
    }
   ],
   "source": [
    "%pylab inline"
   ]
  },
  {
   "cell_type": "code",
   "execution_count": 2,
   "metadata": {},
   "outputs": [],
   "source": [
    "import pylab\n",
    "dat = np.loadtxt('dataset/ex1data2.txt', delimiter = ',')"
   ]
  },
  {
   "cell_type": "code",
   "execution_count": 6,
   "metadata": {},
   "outputs": [
    {
     "name": "stdout",
     "output_type": "stream",
     "text": [
      "Number of examples: 47\n",
      "Number of features: 2\n"
     ]
    }
   ],
   "source": [
    "X = dat[:, :2]\n",
    "y = dat[:, [2]]\n",
    "print(\"Number of examples: {}\".format(y.shape[0]))\n",
    "print(\"Number of features: {}\".format(X.shape[1]))"
   ]
  },
  {
   "cell_type": "markdown",
   "metadata": {},
   "source": [
    "## Feature Normalization <a name=\"feature\"></a>\n",
    "\n",
    "- speed up gradient descent\n",
    "- $x_i \\leftarrow \\frac{x_i-\\mu_i}{s_i},  s_i= \\text{ range or SD}$"
   ]
  },
  {
   "cell_type": "code",
   "execution_count": 73,
   "metadata": {},
   "outputs": [],
   "source": [
    "def featureNormalize(X):\n",
    "    mu = np.mean(X, 0)\n",
    "    sigma = np.std(X, 0)\n",
    "    Xnorm = (X - mu)/sigma\n",
    "    return Xnorm, mu, sigma"
   ]
  },
  {
   "cell_type": "markdown",
   "metadata": {},
   "source": [
    "Add intercept"
   ]
  },
  {
   "cell_type": "code",
   "execution_count": 74,
   "metadata": {},
   "outputs": [],
   "source": [
    "def addintercept(X):\n",
    "    N = X.shape[0]\n",
    "    X = np.hstack((np.ones((N, 1)), X))\n",
    "    return X"
   ]
  },
  {
   "cell_type": "markdown",
   "metadata": {},
   "source": [
    "## Initialization of Parameters<a name=\"initial\"></a>"
   ]
  },
  {
   "cell_type": "code",
   "execution_count": 75,
   "metadata": {},
   "outputs": [],
   "source": [
    "def initialwzeros(dim):\n",
    "    return np.zeros((dim, 1))"
   ]
  },
  {
   "cell_type": "markdown",
   "metadata": {},
   "source": [
    "## Compute Cost <a name=\"cost\"></a>\n",
    "\n",
    "- cost (vectorization)\n",
    "$$\n",
    "J(\\theta) = \\frac{1}{2m}(X\\theta-y)^T(X\\theta-y)\n",
    "$$"
   ]
  },
  {
   "cell_type": "code",
   "execution_count": 76,
   "metadata": {},
   "outputs": [],
   "source": [
    "def cost(X, y, theta):\n",
    "    resid = np.dot(X, theta) - y\n",
    "    return np.mean(resid ** 2)/2"
   ]
  },
  {
   "cell_type": "markdown",
   "metadata": {},
   "source": [
    "## Gradient Descent <a name=\"gradient\"></a>\n",
    "\n",
    "$$\n",
    "\\theta_j \\leftarrow \\theta_j -\\alpha\\frac{\\partial}{\\partial \\theta_j}J(\\mathbf{\\theta})\n",
    "$$\n",
    "\n",
    "- vectorization:\n",
    "$$\n",
    "\\Rightarrow \\mathbf{\\theta} \\leftarrow  \\mathbf{\\theta}-\\alpha\\frac{d}{d\\mathbf{\\theta}}J(\\mathbf{\\theta})=\\mathbf{\\theta}-\\frac{\\alpha}{N}X^T (X\\theta -y)\n",
    "$$"
   ]
  },
  {
   "cell_type": "code",
   "execution_count": 77,
   "metadata": {},
   "outputs": [],
   "source": [
    "def gradientDescent(X, y, theta, learning_rate, iterations):\n",
    "    J = []\n",
    "    m = len(y)\n",
    "    for i in range(iterations):\n",
    "        resid = np.dot(X, theta) - y\n",
    "        theta -= learning_rate/m*np.dot(X.T, resid)\n",
    "        J.append(cost(X, y, theta))\n",
    "    return theta, J"
   ]
  },
  {
   "cell_type": "markdown",
   "metadata": {},
   "source": [
    "## Make Predictions <a name=\"predict\"></a>"
   ]
  },
  {
   "cell_type": "code",
   "execution_count": 78,
   "metadata": {},
   "outputs": [],
   "source": [
    "def predict(Xnew, mu, sigma, theta):\n",
    "    Xnew = (Xnew - mu)/sigma\n",
    "    Xnew = addintercept(Xnew)\n",
    "    return np.dot(Xnew, theta)"
   ]
  },
  {
   "cell_type": "markdown",
   "metadata": {},
   "source": [
    "## Merge all Function <a name=\"merge\"></a>"
   ]
  },
  {
   "cell_type": "code",
   "execution_count": 88,
   "metadata": {},
   "outputs": [],
   "source": [
    "def model(X, y, iterations = 800, learning_rate = 0.03):\n",
    "    # feature normalizing\n",
    "    [Xnorm, mu, sigma] = featureNormalize(X)\n",
    "    Xnorm = addintercept(Xnorm)\n",
    "    \n",
    "    # initializing params\n",
    "    theta = initialwzeros(Xnorm.shape[1])\n",
    "    \n",
    "    # optimization with gradient descent\n",
    "    [theta, cost_hist] = gradientDescent(Xnorm, y, theta, learning_rate, iterations)\n",
    "    \n",
    "    d = {\"costs\": cost_hist,\n",
    "         \"mu\": mu,\n",
    "         \"sigma\": sigma,\n",
    "         \"theta\": theta,\n",
    "         \"learning_rate\": learning_rate,\n",
    "         \"iterations\": iterations}\n",
    "    return d"
   ]
  },
  {
   "cell_type": "code",
   "execution_count": 89,
   "metadata": {},
   "outputs": [],
   "source": [
    "d = model(X, y)"
   ]
  },
  {
   "cell_type": "code",
   "execution_count": 90,
   "metadata": {},
   "outputs": [
    {
     "data": {
      "image/png": "[encoded data removed]",
      "text/plain": [
       "<Figure size 432x288 with 1 Axes>"
      ]
     },
     "metadata": {},
     "output_type": "display_data"
    }
   ],
   "source": [
    "# Plot learning curve (with costs)\n",
    "costs = np.squeeze(d['costs'])\n",
    "plt.plot(costs)\n",
    "plt.ylabel('cost')\n",
    "plt.xlabel('iterations')\n",
    "plt.title(\"Learning rate =\" + str(d[\"learning_rate\"]))\n",
    "plt.show()"
   ]
  },
  {
   "cell_type": "code",
   "execution_count": 91,
   "metadata": {},
   "outputs": [
    {
     "data": {
      "text/plain": [
       "array([[293081.77251496]])"
      ]
     },
     "execution_count": 91,
     "metadata": {},
     "output_type": "execute_result"
    }
   ],
   "source": [
    "Xnew = np.array([[1650, 3]])\n",
    "predict(Xnew, d['mu'], d['sigma'], d['theta'])"
   ]
  },
  {
   "cell_type": "markdown",
   "metadata": {},
   "source": [
    "## Normal Equation Method <a name =\"normal\"></a>\n",
    "\n",
    "$$\\hat{\\mathbf{\\theta}} = (X^TX)^{-1}X^T\\mathbf{y}$$"
   ]
  },
  {
   "cell_type": "code",
   "execution_count": 83,
   "metadata": {},
   "outputs": [],
   "source": [
    "def normalEqn(X, y):\n",
    "    return np.dot(np.linalg.inv(np.dot(X.T, X)),np.dot(X.T, y))"
   ]
  },
  {
   "cell_type": "code",
   "execution_count": 86,
   "metadata": {},
   "outputs": [],
   "source": [
    "def predictwNormalEqn(Xnew, X, y):\n",
    "    X = addintercept(X)\n",
    "    theta = normalEqn(X, y)\n",
    "    \n",
    "    Xnew = addintercept(Xnew)\n",
    "    return np.dot(Xnew, theta)"
   ]
  },
  {
   "cell_type": "code",
   "execution_count": 87,
   "metadata": {},
   "outputs": [
    {
     "data": {
      "text/plain": [
       "array([[293081.46433489]])"
      ]
     },
     "execution_count": 87,
     "metadata": {},
     "output_type": "execute_result"
    }
   ],
   "source": [
    "predictwNormalEqn(Xnew, X, y)"
   ]
  }
 ],
 "metadata": {
  "kernelspec": {
   "display_name": "Python 3",
   "language": "python",
   "name": "python3"
  },
  "language_info": {
   "codemirror_mode": {
    "name": "ipython",
    "version": 3
   },
   "file_extension": ".py",
   "mimetype": "text/x-python",
   "name": "python",
   "nbconvert_exporter": "python",
   "pygments_lexer": "ipython3",
   "version": "3.6.2"
  }
 },
 "nbformat": 4,
 "nbformat_minor": 2
}
